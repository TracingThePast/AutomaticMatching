{
 "cells": [
  {
   "cell_type": "code",
   "execution_count": 1,
   "id": "c418bcd4",
   "metadata": {},
   "outputs": [
    {
     "name": "stdout",
     "output_type": "stream",
     "text": [
      "Collecting git+https://github.com/TracingThePast/automatic_matching\n",
      "  Cloning https://github.com/TracingThePast/automatic_matching to /private/var/folders/99/chbgg_5s3tn77pkyp7wp3_bm0000gn/T/pip-req-build-8f4083in\n",
      "  Running command git clone --filter=blob:none --quiet https://github.com/TracingThePast/automatic_matching /private/var/folders/99/chbgg_5s3tn77pkyp7wp3_bm0000gn/T/pip-req-build-8f4083in\n",
      "  Resolved https://github.com/TracingThePast/automatic_matching to commit 12818379a4c891d743a0df29f95fa2058d729ef3\n",
      "  Installing build dependencies ... \u001b[?25ldone\n",
      "\u001b[?25h  Getting requirements to build wheel ... \u001b[?25ldone\n",
      "\u001b[?25h  Installing backend dependencies ... \u001b[?25ldone\n",
      "\u001b[?25h  Preparing metadata (pyproject.toml) ... \u001b[?25ldone\n",
      "\u001b[?25hRequirement already satisfied: levenshtein~=0.25 in ./env/lib/python3.12/site-packages (from automatic_matching==0.1.1) (0.25.1)\n",
      "Requirement already satisfied: numpy~=1.26 in ./env/lib/python3.12/site-packages (from automatic_matching==0.1.1) (1.26.4)\n",
      "Requirement already satisfied: rapidfuzz<4.0.0,>=3.8.0 in ./env/lib/python3.12/site-packages (from levenshtein~=0.25->automatic_matching==0.1.1) (3.9.3)\n"
     ]
    }
   ],
   "source": [
    "!pip install git+https://github.com/TracingThePast/automatic_matching"
   ]
  },
  {
   "cell_type": "code",
   "execution_count": 1,
   "id": "bc33a0bc",
   "metadata": {},
   "outputs": [],
   "source": [
    "from IPython.display import HTML, display\n",
    "from automatic_matching import get_matching_score, get_results_as_html, match_date_against_local_date"
   ]
  },
  {
   "cell_type": "markdown",
   "id": "5a156bde",
   "metadata": {},
   "source": [
    "## Ablauf:\n",
    "\n",
    "Die Felder `forenames`, `surnames`, `birth_place` und `death_place` werden soweit es geht in ihre einzelnen Bestandteile zerlegt, das heißt die Aneinanderreihung von Namen `Anna, Anne Anneliese` wird zerlegt in `['Anna', 'Anne', 'Anneliese']` damit die einzelnen Namen jeweils direkt verglichen werden können. Beim Vergleichen wird dann immer das Wertepaar ausgewählt, welches die geringste Levenshtein Distanz aufweist. Abschließend wird aus dem Satz der Minimaldistanzen aller möglichen Paare der Mittelwert berechnet. "
   ]
  },
  {
   "cell_type": "code",
   "execution_count": 3,
   "id": "3ba4b26c",
   "metadata": {},
   "outputs": [
    {
     "data": {
      "text/html": [
       "<h1>Total Score: <b style=\"padding:4px; color: white; border-radius:4px;background-color: red;\">50.51217471484188</b></h1><p>Minimum score for automatching: 60</p><h2>Forename:</h2><p>Score: <b>25.0 of 25<b></p><p>Mean Levenshtein ratio: <b>1.0 (1.0)<b></p><table><tr><th>Local value</th><th>External value</th><th>Levenshtein ratio</th></tr><tr><td>{'original': 'Margarethe', 'normalized': 'margarete'}</td><td>{'original': 'Margarete', 'normalized': 'margarete'}</td><td>1.0 (0.9473684210526316)</td></tr><tr><td>{'original': 'Margarete', 'normalized': 'margarete'}</td><td>{'original': 'Margarete', 'normalized': 'margarete'}</td><td>1.0 (1.0)</td></tr><tr><td>{'original': 'Margarethe', 'normalized': 'margarete'}</td><td>{'original': 'Grete', 'normalized': 'grete'}</td><td>0.7142857142857143 (0.5333333333333333)</td></tr><tr><td>{'original': 'Margarete', 'normalized': 'margarete'}</td><td>{'original': 'Grete', 'normalized': 'grete'}</td><td>0.7142857142857143 (0.5714285714285714)</td></tr></table><h2>Surname:</h2><p>Score: <b>8.012174714841883 of 25<b></p><p>Mean Levenshtein ratio: <b>0.5661157024793388 (1.0)<b></p><table><tr><th>Local value</th><th>External value</th><th>Levenshtein ratio</th></tr><tr><td>{'original': 'Loewy', 'normalized': 'lovi'}</td><td>{'original': 'Loewy', 'normalized': 'lovi'}</td><td>1.0 (1.0)</td></tr><tr><td>{'original': 'Loewy', 'normalized': 'lovi'}</td><td>{'original': 'Lewy', 'normalized': 'levi'}</td><td>0.75 (0.8888888888888888)</td></tr><tr><td>{'original': 'Glaessner', 'normalized': 'glasner'}</td><td>{'original': 'Lewy', 'normalized': 'levi'}</td><td>0.36363636363636365 (0.15384615384615385)</td></tr><tr><td>{'original': 'Glässner', 'normalized': 'glasner'}</td><td>{'original': 'Lewy', 'normalized': 'levi'}</td><td>0.36363636363636365 (0.16666666666666663)</td></tr><tr><td>{'original': 'Glaessner', 'normalized': 'glasner'}</td><td>{'original': 'Abeles', 'normalized': 'abeles'}</td><td>0.3076923076923077 (0.4)</td></tr><tr><td>{'original': 'Glässner', 'normalized': 'glasner'}</td><td>{'original': 'Abeles', 'normalized': 'abeles'}</td><td>0.3076923076923077 (0.2857142857142857)</td></tr><tr><td>{'original': 'Loewy', 'normalized': 'lovi'}</td><td>{'original': 'Abeles', 'normalized': 'abeles'}</td><td>0.19999999999999996 (0.18181818181818177)</td></tr><tr><td>{'original': 'Glaessner', 'normalized': 'glasner'}</td><td>{'original': 'Loewy', 'normalized': 'lovi'}</td><td>0.18181818181818177 (0.1428571428571429)</td></tr><tr><td>{'original': 'Glässner', 'normalized': 'glasner'}</td><td>{'original': 'Loewy', 'normalized': 'lovi'}</td><td>0.18181818181818177 (0.15384615384615385)</td></tr></table><h2>Date of birth:</h2><p>Score: <b>17.5 of 20<b></p><p>Levenshtein distance: <b>1<b></p><table><tr><th>Local value</th><th>External value</th><th>Levenshtein ratio</th></tr><tr><td>09.09.1891</td><td>09.09.1897</td><td>1</td></tr></table>"
      ],
      "text/plain": [
       "<IPython.core.display.HTML object>"
      ]
     },
     "metadata": {},
     "output_type": "display_data"
    }
   ],
   "source": [
    "\n",
    "\n",
    "local_test_data = {\n",
    "    'forenames': 'Margarethe, Margarete',\n",
    "    'surnames': 'Glaessner, Glässner, Loewy',\n",
    "    #'birth_place': 'München',\n",
    "    'birth_date': '09.09.1891',\n",
    "    #'death_place': 'Dachau',\n",
    "    #'death_date': '11.12.1941',\n",
    "}\n",
    "\n",
    "external_test_data = {\n",
    "    'forenames': 'Grete, Margarete',\n",
    "    'surnames': 'Abeles, Lewy, Loewy',\n",
    "    'birth_place': 'München / Bavaria',\n",
    "    'birth_date': '09.09.1897',\n",
    "    'death_place': 'Auschwitz',\n",
    "   # 'death_date': '11.11.1941',\n",
    "}\n",
    "\n",
    "result = get_matching_score(local_test_data, external_test_data)\n",
    "\n",
    "output_html = get_results_as_html(result)\n",
    "\n",
    "display(HTML(output_html))"
   ]
  },
  {
   "cell_type": "code",
   "execution_count": 3,
   "id": "e1cae111-07a9-4abe-8b64-faff30188b5f",
   "metadata": {},
   "outputs": [
    {
     "data": {
      "text/html": [
       "<h1>Total Score: <b style=\"padding:4px; color: white; border-radius:4px;background-color: red;\">31.69923998333611</b></h1><p>Minimum score for automatching: 60</p><h2>Forename:</h2><p>Score: <b>25.0 of 25<b></p><p>Mean Levenshtein ratio: <b>1.0 (1.0)<b></p><table><tr><th>Local value</th><th>External value</th><th>Levenshtein ratio</th></tr><tr><td>{'original': 'Margarethe', 'normalized': 'margarete'}</td><td>{'original': 'Margarete', 'normalized': 'margarete'}</td><td>1.0 (0.9473684210526316)</td></tr></table><h2>Surname:</h2><p>Score: <b>2.6992399833361054 of 25<b></p><p>Mean Levenshtein ratio: <b>0.3285872781065089 (0.4750617283950617)<b></p><table><tr><th>Local value</th><th>External value</th><th>Levenshtein ratio</th></tr><tr><td>{'original': 'Lewy', 'normalized': 'levi'}</td><td>{'original': 'Loewy', 'normalized': 'lovi'}</td><td>0.75 (0.8888888888888888)</td></tr><tr><td>{'original': 'Lewy', 'normalized': 'levi'}</td><td>{'original': 'Glaessner', 'normalized': 'glasner'}</td><td>0.36363636363636365 (0.15384615384615385)</td></tr><tr><td>{'original': 'Lewy', 'normalized': 'levi'}</td><td>{'original': 'Glässner', 'normalized': 'glasner'}</td><td>0.36363636363636365 (0.16666666666666663)</td></tr><tr><td>{'original': 'Abeles', 'normalized': 'abeles'}</td><td>{'original': 'Glaessner', 'normalized': 'glasner'}</td><td>0.3076923076923077 (0.4)</td></tr><tr><td>{'original': 'Abeles', 'normalized': 'abeles'}</td><td>{'original': 'Glässner', 'normalized': 'glasner'}</td><td>0.3076923076923077 (0.2857142857142857)</td></tr><tr><td>{'original': 'Abeles', 'normalized': 'abeles'}</td><td>{'original': 'Loewy', 'normalized': 'lovi'}</td><td>0.19999999999999996 (0.18181818181818177)</td></tr></table><h2>Date of birth:</h2><p>Score: <b>19.0 of 20<b></p><p>Levenshtein distance: <b>2<b></p><table><tr><th>Local value</th><th>External value</th><th>Levenshtein ratio</th></tr><tr><td>02.03.1923</td><td>02.03.1932</td><td>2</td></tr></table><h2>Place of birth:</h2><p>Score: <b>10.0 of 10<b></p><p>Mean Levenshtein ratio: <b>1.0 (1.0)<b></p><table><tr><th>Local value</th><th>External value</th><th>Levenshtein ratio</th></tr><tr><td>{'original': 'München', 'normalized': 'munchen'}</td><td>{'original': 'München', 'normalized': 'munchen'}</td><td>1.0 (1.0)</td></tr></table>"
      ],
      "text/plain": [
       "<IPython.core.display.HTML object>"
      ]
     },
     "metadata": {},
     "output_type": "display_data"
    }
   ],
   "source": [
    "\n",
    "\n",
    "local_test_data = {\n",
    "    'forenames': 'Margarethe, Margarete',\n",
    "    'surnames': 'Abeles, Lewy',\n",
    "    'birth_place': 'München',\n",
    "    'birth_date': '02.03.1923',\n",
    "    'death_place': 'Dachau',\n",
    "    'death_date': '11.12.1941',\n",
    "}\n",
    "\n",
    "external_test_data = {\n",
    "    'forenames': 'Margarete',\n",
    "    'surnames': 'Glaessner, Glässner, Loewy',\n",
    "    'birth_place': 'München / Bavaria',\n",
    "    'birth_date': '02.03.1932',\n",
    "   #'death_place': 'Dachau',\n",
    "   # 'death_date': '11.11.1941',\n",
    "}\n",
    "\n",
    "result = get_matching_score(local_test_data, external_test_data)\n",
    "\n",
    "output_html = get_results_as_html(result)\n",
    "\n",
    "display(HTML(output_html))"
   ]
  },
  {
   "cell_type": "code",
   "execution_count": null,
   "id": "59daa1ef-c38c-46c9-889e-99f85083cc3f",
   "metadata": {},
   "outputs": [],
   "source": []
  },
  {
   "cell_type": "code",
   "execution_count": null,
   "id": "26158b86-3989-4bfe-bf8a-0c3c044c95bc",
   "metadata": {},
   "outputs": [],
   "source": []
  }
 ],
 "metadata": {
  "kernelspec": {
   "display_name": "Python 3 (ipykernel)",
   "language": "python",
   "name": "python3"
  },
  "language_info": {
   "codemirror_mode": {
    "name": "ipython",
    "version": 3
   },
   "file_extension": ".py",
   "mimetype": "text/x-python",
   "name": "python",
   "nbconvert_exporter": "python",
   "pygments_lexer": "ipython3",
   "version": "3.12.3"
  }
 },
 "nbformat": 4,
 "nbformat_minor": 5
}
