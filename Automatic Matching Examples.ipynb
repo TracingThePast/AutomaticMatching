{
 "cells": [
  {
   "cell_type": "code",
   "execution_count": null,
   "id": "c418bcd4",
   "metadata": {},
   "outputs": [],
   "source": [
    "!pip install git+https://github.com/TracingThePast/automatic_matching"
   ]
  },
  {
   "cell_type": "code",
   "execution_count": 1,
   "id": "bc33a0bc",
   "metadata": {},
   "outputs": [],
   "source": [
    "from IPython.display import HTML, display\n",
    "from automatic_matching import get_matching_score, get_results_as_html"
   ]
  },
  {
   "cell_type": "markdown",
   "id": "5a156bde",
   "metadata": {},
   "source": [
    "## Ablauf:\n",
    "\n",
    "Die Felder `forenames`, `surnames`, `birth_place` und `death_place` werden soweit es geht in ihre einzelnen Bestandteile zerlegt, das heißt die Aneinanderreihung von Namen `Anna, Anne Anneliese` wird zerlegt in `['Anna', 'Anne', 'Anneliese']` damit die einzelnen Namen jeweils direkt verglichen werden können. Beim Vergleichen wird dann immer das Wertepaar ausgewählt, welches die geringste Levenshtein Distanz aufweist. Abschließend wird aus dem Satz der Minimaldistanzen aller möglichen Paare der Mittelwert berechnet. "
   ]
  },
  {
   "cell_type": "code",
   "execution_count": 2,
   "id": "3ba4b26c",
   "metadata": {},
   "outputs": [
    {
     "data": {
      "text/html": [
       "<h1>Total Score: <b style=\"padding:4px; color: white; border-radius:4px;background-color: green;\">79.9221183800623</b> Automatically matched</h1><p>Minimum score for automatching: 75</p><h2>Forename:</h2><p>Score: <b>24.922118380062305 of 25<b></p><p>Mean Levenshtein distance: <b>0.5<b></p><table><tr><th>Local value</th><th>External value</th><th>Levenshtein distance</th></tr><tr><td>Anne</td><td>Anne</td><td>0</td></tr><tr><td>Anna</td><td>Anne</td><td>1</td></tr><tr><td>Anneliese</td><td>Annelies</td><td>1</td></tr><tr><td>Anne</td><td>Annelies</td><td>4</td></tr><tr><td>Anna</td><td>Annelies</td><td>5</td></tr></table><h2>Surname:</h2><p>Score: <b>25.0 of 25<b></p><p>Mean Levenshtein distance: <b>0.0<b></p><table><tr><th>Local value</th><th>External value</th><th>Levenshtein distance</th></tr><tr><td>Musterfrau</td><td>Musterfrau</td><td>0</td></tr></table><h2>Date of birth:</h2><p>Score: <b>15.0 of 15<b></p><p>Levenshtein distance: <b>0<b></p><table><tr><th>Local value</th><th>External value</th><th>Levenshtein distance</th></tr><tr><td>02.03.1923</td><td>02.03.1923</td><td>0</td></tr></table><h2>Place of birth:</h2><p>Score: <b>15.0 of 15<b></p><p>Mean Levenshtein distance: <b>0.0<b></p><table><tr><th>Local value</th><th>External value</th><th>Levenshtein distance</th></tr><tr><td>Anne</td><td>Anne</td><td>0</td></tr><tr><td>Anna</td><td>Anne</td><td>1</td></tr><tr><td>Anneliese</td><td>Annelies</td><td>1</td></tr><tr><td>Anne</td><td>Annelies</td><td>4</td></tr><tr><td>Anna</td><td>Annelies</td><td>5</td></tr></table>"
      ],
      "text/plain": [
       "<IPython.core.display.HTML object>"
      ]
     },
     "metadata": {},
     "output_type": "display_data"
    }
   ],
   "source": [
    "\n",
    "\n",
    "local_test_data = {\n",
    "    'forenames': 'Anna, Anne Anneliese',\n",
    "    'surnames': 'Musterfrau',\n",
    "    'birth_place': 'München',\n",
    "    'birth_date': '02.03.1923',\n",
    "    'death_place': 'Dachau',\n",
    "    'death_date': '11.12.1941',\n",
    "}\n",
    "\n",
    "external_test_data = {\n",
    "    'forenames': 'Anne Annelies',\n",
    "    'surnames': 'Musterfrau',\n",
    "    'birth_place': 'München',\n",
    "    'birth_date': '02.03.1923',\n",
    "#    'death_place': 'Dachau',\n",
    "#    'death_date': '11.11.1941',\n",
    "}\n",
    "\n",
    "result = get_matching_score(local_test_data, external_test_data)\n",
    "output_html = get_results_as_html(result)\n",
    "\n",
    "display(HTML(output_html))"
   ]
  },
  {
   "cell_type": "code",
   "execution_count": null,
   "id": "a989cfe0",
   "metadata": {},
   "outputs": [],
   "source": []
  }
 ],
 "metadata": {
  "kernelspec": {
   "display_name": ".env",
   "language": "python",
   "name": ".env"
  },
  "language_info": {
   "codemirror_mode": {
    "name": "ipython",
    "version": 3
   },
   "file_extension": ".py",
   "mimetype": "text/x-python",
   "name": "python",
   "nbconvert_exporter": "python",
   "pygments_lexer": "ipython3",
   "version": "3.9.18"
  }
 },
 "nbformat": 4,
 "nbformat_minor": 5
}
