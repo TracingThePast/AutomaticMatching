{
 "cells": [
  {
   "cell_type": "code",
   "execution_count": 1,
   "id": "c418bcd4",
   "metadata": {},
   "outputs": [
    {
     "name": "stdout",
     "output_type": "stream",
     "text": [
      "Collecting git+https://github.com/TracingThePast/automatic_matching\n",
      "  Cloning https://github.com/TracingThePast/automatic_matching to /private/var/folders/99/chbgg_5s3tn77pkyp7wp3_bm0000gn/T/pip-req-build-8f4083in\n",
      "  Running command git clone --filter=blob:none --quiet https://github.com/TracingThePast/automatic_matching /private/var/folders/99/chbgg_5s3tn77pkyp7wp3_bm0000gn/T/pip-req-build-8f4083in\n",
      "  Resolved https://github.com/TracingThePast/automatic_matching to commit 12818379a4c891d743a0df29f95fa2058d729ef3\n",
      "  Installing build dependencies ... \u001b[?25ldone\n",
      "\u001b[?25h  Getting requirements to build wheel ... \u001b[?25ldone\n",
      "\u001b[?25h  Installing backend dependencies ... \u001b[?25ldone\n",
      "\u001b[?25h  Preparing metadata (pyproject.toml) ... \u001b[?25ldone\n",
      "\u001b[?25hRequirement already satisfied: levenshtein~=0.25 in ./env/lib/python3.12/site-packages (from automatic_matching==0.1.1) (0.25.1)\n",
      "Requirement already satisfied: numpy~=1.26 in ./env/lib/python3.12/site-packages (from automatic_matching==0.1.1) (1.26.4)\n",
      "Requirement already satisfied: rapidfuzz<4.0.0,>=3.8.0 in ./env/lib/python3.12/site-packages (from levenshtein~=0.25->automatic_matching==0.1.1) (3.9.3)\n"
     ]
    }
   ],
   "source": [
    "!pip install git+https://github.com/TracingThePast/automatic_matching"
   ]
  },
  {
   "cell_type": "code",
   "execution_count": 1,
   "id": "bc33a0bc",
   "metadata": {},
   "outputs": [],
   "source": [
    "from IPython.display import HTML, display\n",
    "from automatic_matching import get_matching_score, get_results_as_html"
   ]
  },
  {
   "cell_type": "markdown",
   "id": "5a156bde",
   "metadata": {},
   "source": [
    "## Ablauf:\n",
    "\n",
    "Die Felder `forenames`, `surnames`, `birth_place` und `death_place` werden soweit es geht in ihre einzelnen Bestandteile zerlegt, das heißt die Aneinanderreihung von Namen `Anna, Anne Anneliese` wird zerlegt in `['Anna', 'Anne', 'Anneliese']` damit die einzelnen Namen jeweils direkt verglichen werden können. Beim Vergleichen wird dann immer das Wertepaar ausgewählt, welches die geringste Levenshtein Distanz aufweist. Abschließend wird aus dem Satz der Minimaldistanzen aller möglichen Paare der Mittelwert berechnet. "
   ]
  },
  {
   "cell_type": "code",
   "execution_count": 4,
   "id": "3ba4b26c",
   "metadata": {},
   "outputs": [
    {
     "data": {
      "text/html": [
       "<h1>Total Score: <b style=\"padding:4px; color: white; border-radius:4px;background-color: green;\">66.42211838006232</b> Automatically matched</h1><p>Minimum score for automatching: 66</p><h2>Forename:</h2><p>Score: <b>24.922118380062305 of 25<b></p><p>Mean Levenshtein distance: <b>0.5 (0.5)<b></p><table><tr><th>Local value</th><th>External value</th><th>Levenshtein distance</th></tr><tr><td>{'original': 'Anne', 'normalized': 'ane'}</td><td>{'original': 'Anne', 'normalized': 'ane'}</td><td>0 (0)</td></tr><tr><td>{'original': 'Anna', 'normalized': 'ana'}</td><td>{'original': 'Anne', 'normalized': 'ane'}</td><td>1 (1)</td></tr><tr><td>{'original': 'Anneliese', 'normalized': 'aneliese'}</td><td>{'original': 'Annelies', 'normalized': 'anelies'}</td><td>1 (1)</td></tr><tr><td>{'original': 'Anne', 'normalized': 'ane'}</td><td>{'original': 'Annelies', 'normalized': 'anelies'}</td><td>4 (4)</td></tr><tr><td>{'original': 'Anna', 'normalized': 'ana'}</td><td>{'original': 'Annelies', 'normalized': 'anelies'}</td><td>5 (5)</td></tr></table><h2>Surname:</h2><p>Score: <b>25.0 of 25<b></p><p>Mean Levenshtein distance: <b>0.0 (2.0)<b></p><table><tr><th>Local value</th><th>External value</th><th>Levenshtein distance</th></tr><tr><td>{'original': 'Musterfrau', 'normalized': 'musterfrau'}</td><td>{'original': 'Musterphrau', 'normalized': 'musterfrau'}</td><td>0 (2)</td></tr></table><h2>Date of birth:</h2><p>Score: <b>1.5 of 15<b></p><p>Levenshtein distance: <b>3<b></p><table><tr><th>Local value</th><th>External value</th><th>Levenshtein distance</th></tr><tr><td>02.03.1923</td><td>12.12.1923</td><td>3</td></tr></table><h2>Place of birth:</h2><p>Score: <b>15 of 15<b></p><p>Mean Levenshtein distance: <b>3.5 (3.5)<b></p><table><tr><th>Local value</th><th>External value</th><th>Levenshtein distance</th></tr><tr><td>{'original': 'München', 'normalized': 'munchen'}</td><td>{'original': 'München', 'normalized': 'munchen'}</td><td>0 (0)</td></tr><tr><td>{'original': 'München', 'normalized': 'munchen'}</td><td>{'original': 'Bavaria', 'normalized': 'bavaria'}</td><td>7 (7)</td></tr></table>"
      ],
      "text/plain": [
       "<IPython.core.display.HTML object>"
      ]
     },
     "metadata": {},
     "output_type": "display_data"
    }
   ],
   "source": [
    "\n",
    "\n",
    "local_test_data = {\n",
    "    'forenames': 'Anna, Anne Anneliese',\n",
    "    'surnames': 'Musterfrau',\n",
    "    'birth_place': 'München',\n",
    "    'birth_date': '02.03.1923',\n",
    "    'death_place': 'Dachau',\n",
    "    'death_date': '11.12.1941',\n",
    "}\n",
    "\n",
    "external_test_data = {\n",
    "    'forenames': 'Anne Annelies',\n",
    "    'surnames': 'Musterphrau',\n",
    "    'birth_place': 'München / Bavaria',\n",
    "    'birth_date': '12.12.1923',\n",
    "#    'death_place': 'Dachau',\n",
    "#    'death_date': '11.11.1941',\n",
    "}\n",
    "\n",
    "result = get_matching_score(local_test_data, external_test_data)\n",
    "output_html = get_results_as_html(result)\n",
    "\n",
    "display(HTML(output_html))"
   ]
  },
  {
   "cell_type": "code",
   "execution_count": null,
   "id": "a989cfe0",
   "metadata": {},
   "outputs": [],
   "source": []
  }
 ],
 "metadata": {
  "kernelspec": {
   "display_name": "Python 3 (ipykernel)",
   "language": "python",
   "name": "python3"
  },
  "language_info": {
   "codemirror_mode": {
    "name": "ipython",
    "version": 3
   },
   "file_extension": ".py",
   "mimetype": "text/x-python",
   "name": "python",
   "nbconvert_exporter": "python",
   "pygments_lexer": "ipython3",
   "version": "3.12.3"
  }
 },
 "nbformat": 4,
 "nbformat_minor": 5
}
